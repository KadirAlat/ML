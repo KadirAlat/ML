{
  "nbformat": 4,
  "nbformat_minor": 0,
  "metadata": {
    "colab": {
      "name": "Untitled",
      "provenance": []
    },
    "kernelspec": {
      "name": "python3",
      "display_name": "Python 3"
    },
    "accelerator": "GPU"
  },
  "cells": [
    {
      "cell_type": "code",
      "metadata": {
        "id": "iczhfRhqtmgk"
      },
      "source": [
        "import torch, torchvision\r\n",
        "from torch import nn,optim\r\n",
        "from torch.autograd import Variable as var "
      ],
      "execution_count": 25,
      "outputs": []
    },
    {
      "cell_type": "code",
      "metadata": {
        "id": "otR7DSYX6mvw"
      },
      "source": [
        "n_batch = 64\r\n",
        "learning_rate = 0.01\r\n",
        "n_epoch = 3\r\n",
        "n_print = 10"
      ],
      "execution_count": 26,
      "outputs": []
    },
    {
      "cell_type": "code",
      "metadata": {
        "id": "TovZ9CyY5OT8"
      },
      "source": [
        "T = torchvision.transforms.ToTensor()\r\n",
        "train_data = torchvision.datasets.MNIST('mnist_data',train=True,download=True,transform=T)\r\n",
        "val_data = torchvision.datasets.MNIST('mnist_data',train=False,download=True,transform=T)\r\n",
        "\r\n",
        "train_dl = torch.utils.data.DataLoader(train_data,batch_size = n_batch)\r\n",
        "val_dl = torch.utils.data.DataLoader(val_data,batch_size = n_batch)"
      ],
      "execution_count": 7,
      "outputs": []
    },
    {
      "cell_type": "code",
      "metadata": {
        "id": "O5ByIUcX6b69"
      },
      "source": [
        "class myCNN(nn.Module):\r\n",
        "  def __init__(self):\r\n",
        "    super(myCNN,self).__init__()\r\n",
        "    self.cnn1 = nn.Conv2d(1,3,3)\r\n",
        "    self.cnn2 = nn.Conv2d(3,2,5)\r\n",
        "    self.linear = nn.Linear(968,10)\r\n",
        "    self.relu = nn.ReLU()\r\n",
        "  \r\n",
        "  def forward(self,x):\r\n",
        "    n = x.size(0)\r\n",
        "    x = self.relu(self.cnn1(x))\r\n",
        "    x = self.relu(self.cnn2(x))\r\n",
        "    x = x.view(n,-1)\r\n",
        "    x = self.linear(x)\r\n",
        "    return x\r\n"
      ],
      "execution_count": 27,
      "outputs": []
    },
    {
      "cell_type": "code",
      "metadata": {
        "id": "rcWqH5Pp_MUw",
        "outputId": "a2ee65fb-be03-47a9-dca7-862b3ba22a82",
        "colab": {
          "base_uri": "https://localhost:8080/",
          "height": 493
        }
      },
      "source": [
        "mycnn = myCNN().cuda()\r\n",
        "cec = nn.CrossEntropyLoss()\r\n",
        "optimizer = optim.Adam(mycnn.parameters(),lr = learning_rate)\r\n",
        "\r\n",
        "def validate(model,data):\r\n",
        "  # To get validation accuracy = (correct/total)*100.\r\n",
        "  total = 0\r\n",
        "  correct = 0\r\n",
        "  for i,(images,labels) in enumerate(data):\r\n",
        "    images = var(images.cuda())\r\n",
        "    x = model(images)\r\n",
        "    value,pred = torch.max(x,1)\r\n",
        "    pred = pred.data.cpu()\r\n",
        "    total += x.size(0)\r\n",
        "    correct += torch.sum(pred == labels)\r\n",
        "  return correct*100./total\r\n",
        "\r\n",
        "for e in range(n_epoch):\r\n",
        "  for i,(images,labels) in enumerate(train_dl):\r\n",
        "    images = var(images.cuda())\r\n",
        "    labels = var(labels.cuda())\r\n",
        "    optimizer.zero_grad()\r\n",
        "    pred = mycnn(images)\r\n",
        "    loss = cec(pred,labels)\r\n",
        "    loss.backward()\r\n",
        "    optimizer.step()\r\n",
        "    if (i+1) % n_print == 0:\r\n",
        "      accuracy = float(validate(mycnn,val_dl))\r\n",
        "      print('Epoch :',e+1,'Batch :',i+1,'Loss :',float(loss.data),'Accuracy :',accuracy,'%')"
      ],
      "execution_count": 28,
      "outputs": [
        {
          "output_type": "stream",
          "text": [
            "Epoch : 1 Batch : 10 Loss : 1.5697802305221558 Accuracy : 61.220001220703125 %\n",
            "Epoch : 1 Batch : 20 Loss : 1.0018867254257202 Accuracy : 77.8499984741211 %\n",
            "Epoch : 1 Batch : 30 Loss : 0.5282868146896362 Accuracy : 81.93000030517578 %\n",
            "Epoch : 1 Batch : 40 Loss : 0.2851073741912842 Accuracy : 85.22000122070312 %\n",
            "Epoch : 1 Batch : 50 Loss : 0.2913413345813751 Accuracy : 85.44000244140625 %\n",
            "Epoch : 1 Batch : 60 Loss : 0.3766421973705292 Accuracy : 86.41999816894531 %\n",
            "Epoch : 1 Batch : 70 Loss : 0.3795894682407379 Accuracy : 87.61000061035156 %\n",
            "Epoch : 1 Batch : 80 Loss : 0.3694334030151367 Accuracy : 88.69999694824219 %\n"
          ],
          "name": "stdout"
        },
        {
          "output_type": "error",
          "ename": "KeyboardInterrupt",
          "evalue": "ignored",
          "traceback": [
            
          ]
        }
      ]
    },
    {
      "cell_type": "code",
      "metadata": {
        "id": "z10qFycb_pnA"
      },
      "source": [
        ""
      ],
      "execution_count": null,
      "outputs": []
    }
  ]
}
